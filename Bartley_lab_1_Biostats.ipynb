{
  "nbformat": 4,
  "nbformat_minor": 0,
  "metadata": {
    "colab": {
      "name": "Bartley_lab 1/Biostats.ipynb",
      "provenance": [],
      "collapsed_sections": [
        "CvIylueN8w_F",
        "LfBIDFgid29z"
      ]
    },
    "kernelspec": {
      "name": "python3",
      "display_name": "Python 3"
    }
  },
  "cells": [
    {
      "cell_type": "markdown",
      "metadata": {
        "id": "zXRuHUsU8qWd"
      },
      "source": [
        "** Basic Concepts about Python"
      ]
    },
    {
      "cell_type": "code",
      "metadata": {
        "id": "kBYPlprQxgPg"
      },
      "source": [
        "# Run a command by creating a new code using + sign displayed beside code in top left corner and then press shift and enter or play."
      ],
      "execution_count": null,
      "outputs": []
    },
    {
      "cell_type": "code",
      "metadata": {
        "id": "3eqNqo3MwIdj",
        "outputId": "5a33dce3-9aa8-404a-b3b5-106d1a555237",
        "colab": {
          "base_uri": "https://localhost:8080/",
          "height": 34
        }
      },
      "source": [
        "# Number sign is used to make a comment.  Basic Computation of 2+2\n",
        "2+2"
      ],
      "execution_count": null,
      "outputs": [
        {
          "output_type": "execute_result",
          "data": {
            "text/plain": [
              "4"
            ]
          },
          "metadata": {
            "tags": []
          },
          "execution_count": 8
        }
      ]
    },
    {
      "cell_type": "code",
      "metadata": {
        "id": "LvTN1bBP9Zln",
        "outputId": "8ff98588-3ffb-4fec-d7f1-fc4247e60b03",
        "colab": {
          "base_uri": "https://localhost:8080/",
          "height": 34
        }
      },
      "source": [
        "print ('Hello World')  # print whats in the bracket"
      ],
      "execution_count": null,
      "outputs": [
        {
          "output_type": "stream",
          "text": [
            "Hello World\n"
          ],
          "name": "stdout"
        }
      ]
    },
    {
      "cell_type": "code",
      "metadata": {
        "id": "zsZGbg-Zz5CW",
        "outputId": "669c5bee-9fdf-4f0c-b266-59035361cac2",
        "colab": {
          "base_uri": "https://localhost:8080/",
          "height": 34
        }
      },
      "source": [
        "#Is 2 greater than 3?\n",
        "2>3"
      ],
      "execution_count": null,
      "outputs": [
        {
          "output_type": "execute_result",
          "data": {
            "text/plain": [
              "False"
            ]
          },
          "metadata": {
            "tags": []
          },
          "execution_count": 9
        }
      ]
    },
    {
      "cell_type": "code",
      "metadata": {
        "id": "lSrW1O-Yz_1C",
        "outputId": "ff3cdd5a-7c04-411b-8d90-7081fcdb4805",
        "colab": {
          "base_uri": "https://localhost:8080/",
          "height": 35
        }
      },
      "source": [
        "#quotation marks can be used to make comments as well\n",
        "'''\n",
        "JDKASC\n",
        "'''"
      ],
      "execution_count": null,
      "outputs": [
        {
          "output_type": "execute_result",
          "data": {
            "application/vnd.google.colaboratory.intrinsic+json": {
              "type": "string"
            },
            "text/plain": [
              "'\\nJDKASC\\n'"
            ]
          },
          "metadata": {
            "tags": []
          },
          "execution_count": 10
        }
      ]
    },
    {
      "cell_type": "code",
      "metadata": {
        "id": "g7dfAriG0i2S"
      },
      "source": [
        "#Name variables this way.  Example age. Whenever you run age, 40 will be displayed\n",
        "\n",
        "age = 40"
      ],
      "execution_count": null,
      "outputs": []
    },
    {
      "cell_type": "code",
      "metadata": {
        "id": "SJh9SimI0tHF",
        "outputId": "08fbbcc6-af33-4103-c64f-dfc23e4b9f62",
        "colab": {
          "base_uri": "https://localhost:8080/",
          "height": 34
        }
      },
      "source": [
        "age"
      ],
      "execution_count": null,
      "outputs": [
        {
          "output_type": "execute_result",
          "data": {
            "text/plain": [
              "40"
            ]
          },
          "metadata": {
            "tags": []
          },
          "execution_count": 15
        }
      ]
    },
    {
      "cell_type": "code",
      "metadata": {
        "id": "ls6fInx20thk"
      },
      "source": [
        "age , name = 40 , 'peter'"
      ],
      "execution_count": null,
      "outputs": []
    },
    {
      "cell_type": "code",
      "metadata": {
        "id": "1VZHYyTi0wOS",
        "outputId": "d19d7a10-a101-4490-a46a-e5f14121a396",
        "colab": {
          "base_uri": "https://localhost:8080/",
          "height": 35
        }
      },
      "source": [
        "name"
      ],
      "execution_count": null,
      "outputs": [
        {
          "output_type": "execute_result",
          "data": {
            "application/vnd.google.colaboratory.intrinsic+json": {
              "type": "string"
            },
            "text/plain": [
              "'peter'"
            ]
          },
          "metadata": {
            "tags": []
          },
          "execution_count": 18
        }
      ]
    },
    {
      "cell_type": "markdown",
      "metadata": {
        "id": "am65U6-j08di"
      },
      "source": [
        "A variable name in Python can only contain letters,\n",
        "numbers or underscores. However, the first character cannot be\n",
        "a number. Hence, you can name your variables userName,\n",
        "user_name or userName2 but not 2userName."
      ]
    },
    {
      "cell_type": "code",
      "metadata": {
        "id": "SQgtqYfo0-Le",
        "outputId": "0c346649-b742-4748-9257-c59905d19aa3",
        "colab": {
          "base_uri": "https://localhost:8080/",
          "height": 51
        }
      },
      "source": [
        "# assignment\n",
        "x = 5\n",
        "y = 10\n",
        "x = y\n",
        "print (\"x = \", x) # This is telling python to print x= and y= as themselves.\n",
        "print (\"y = \", y)"
      ],
      "execution_count": null,
      "outputs": [
        {
          "output_type": "stream",
          "text": [
            "x =  10\n",
            "y =  10\n"
          ],
          "name": "stdout"
        }
      ]
    },
    {
      "cell_type": "code",
      "metadata": {
        "id": "zFo8Zy3f0-N5"
      },
      "source": [
        "#basic operators\n",
        "x = 5\n",
        "y = 2"
      ],
      "execution_count": null,
      "outputs": []
    },
    {
      "cell_type": "code",
      "metadata": {
        "id": "kGNqkjLE0-Qb",
        "outputId": "c3c33b14-c72e-43fb-8b4b-36d2b557b816",
        "colab": {
          "base_uri": "https://localhost:8080/",
          "height": 34
        }
      },
      "source": [
        "x+y"
      ],
      "execution_count": null,
      "outputs": [
        {
          "output_type": "execute_result",
          "data": {
            "text/plain": [
              "7"
            ]
          },
          "metadata": {
            "tags": []
          },
          "execution_count": 17
        }
      ]
    },
    {
      "cell_type": "code",
      "metadata": {
        "id": "v7oPu5Fy0-XN",
        "outputId": "6e3278c1-decc-4257-d152-0a0837ac5813",
        "colab": {
          "base_uri": "https://localhost:8080/",
          "height": 34
        }
      },
      "source": [
        "# exponenent  uses two multiplication sign. x raised to the power of y\n",
        "x**y"
      ],
      "execution_count": null,
      "outputs": [
        {
          "output_type": "execute_result",
          "data": {
            "text/plain": [
              "25"
            ]
          },
          "metadata": {
            "tags": []
          },
          "execution_count": 18
        }
      ]
    },
    {
      "cell_type": "code",
      "metadata": {
        "id": "za0h4gJA0-aM"
      },
      "source": [
        "x=10\n",
        "x=x+2"
      ],
      "execution_count": null,
      "outputs": []
    },
    {
      "cell_type": "code",
      "metadata": {
        "id": "-XVfn3Z11xKH",
        "outputId": "a4115826-2ea3-4fc2-89a2-fd27aee6231f",
        "colab": {
          "base_uri": "https://localhost:8080/",
          "height": 34
        }
      },
      "source": [
        "x"
      ],
      "execution_count": null,
      "outputs": [
        {
          "output_type": "execute_result",
          "data": {
            "text/plain": [
              "12"
            ]
          },
          "metadata": {
            "tags": []
          },
          "execution_count": 20
        }
      ]
    },
    {
      "cell_type": "markdown",
      "metadata": {
        "id": "GdzNu30H112O"
      },
      "source": [
        "Instead of writing x = x + 2, we can also write x += 2 to express\n",
        "the same meaning. The += sign is actually a shorthand that\n",
        "combines the assignment sign with the addition operator. Hence, x\n",
        "+= 2 simply means x = x + 2."
      ]
    },
    {
      "cell_type": "code",
      "metadata": {
        "id": "KnrqKxjk12Zq"
      },
      "source": [
        "x+=2"
      ],
      "execution_count": null,
      "outputs": []
    },
    {
      "cell_type": "code",
      "metadata": {
        "id": "ZNJgg9f-12cN",
        "outputId": "8a89a5e8-dd66-4a97-9edf-997e05ba5525",
        "colab": {
          "base_uri": "https://localhost:8080/",
          "height": 34
        }
      },
      "source": [
        "x"
      ],
      "execution_count": null,
      "outputs": [
        {
          "output_type": "execute_result",
          "data": {
            "text/plain": [
              "14"
            ]
          },
          "metadata": {
            "tags": []
          },
          "execution_count": 22
        }
      ]
    },
    {
      "cell_type": "markdown",
      "metadata": {
        "id": "T0Y4eIha2D-R"
      },
      "source": [
        "To declare a string, you can either use variableName =\n",
        "‘initial value’ (single quotes) or variableName =\n",
        "“initial value” (double quotes)"
      ]
    },
    {
      "cell_type": "code",
      "metadata": {
        "id": "9mLFv-_t2Ew8"
      },
      "source": [
        "userName = 'Peter'\n",
        "userSpouseName = \"Janet\",\n",
        "userAge = '30'"
      ],
      "execution_count": null,
      "outputs": []
    },
    {
      "cell_type": "code",
      "metadata": {
        "id": "Sa3Dr6ge12e1",
        "outputId": "f1072f13-70ac-430e-ebe9-39e786ea9518",
        "colab": {
          "base_uri": "https://localhost:8080/",
          "height": 35
        }
      },
      "source": [
        "# convert all characters into uppercases\n",
        "userName.upper()"
      ],
      "execution_count": null,
      "outputs": [
        {
          "output_type": "execute_result",
          "data": {
            "application/vnd.google.colaboratory.intrinsic+json": {
              "type": "string"
            },
            "text/plain": [
              "'PETER'"
            ]
          },
          "metadata": {
            "tags": []
          },
          "execution_count": 81
        }
      ]
    },
    {
      "cell_type": "code",
      "metadata": {
        "id": "9Ps2A9hm12gp"
      },
      "source": [
        "# formatting using % operator\n",
        "brand = 'Apple'\n",
        "exchangeRate = 1.235235245"
      ],
      "execution_count": null,
      "outputs": []
    },
    {
      "cell_type": "code",
      "metadata": {
        "id": "9e_gelVb12kB"
      },
      "source": [
        "message = 'The price of this %s laptop is %d USD and the exchange rate is %4.2f USD to 1 EUR' %(brand, 1299, exchangeRate)"
      ],
      "execution_count": null,
      "outputs": []
    },
    {
      "cell_type": "code",
      "metadata": {
        "id": "rLYGblUp12mX",
        "outputId": "8181bda2-dd3e-4ce8-a283-239298c368c8",
        "colab": {
          "base_uri": "https://localhost:8080/",
          "height": 34
        }
      },
      "source": [
        "print(message)"
      ],
      "execution_count": null,
      "outputs": [
        {
          "output_type": "stream",
          "text": [
            "The price of this Apple laptop is 1299 USD and the exchange rate is 1.24 USD to 1 EUR\n"
          ],
          "name": "stdout"
        }
      ]
    },
    {
      "cell_type": "code",
      "metadata": {
        "id": "g0pFqdRZ5mW5",
        "outputId": "dd1ba72a-1a77-4408-e4c5-6402765f0b95",
        "colab": {
          "base_uri": "https://localhost:8080/",
          "height": 35
        }
      },
      "source": [
        "#type casting\n",
        "str(2.1)"
      ],
      "execution_count": null,
      "outputs": [
        {
          "output_type": "execute_result",
          "data": {
            "application/vnd.google.colaboratory.intrinsic+json": {
              "type": "string"
            },
            "text/plain": [
              "'2.1'"
            ]
          },
          "metadata": {
            "tags": []
          },
          "execution_count": 33
        }
      ]
    },
    {
      "cell_type": "code",
      "metadata": {
        "id": "pB1-Oaw95maZ"
      },
      "source": [
        "#List\n",
        "userAge = [21, 22, 23, 24, 25]"
      ],
      "execution_count": null,
      "outputs": []
    },
    {
      "cell_type": "code",
      "metadata": {
        "id": "qwTEei0s7N7M",
        "outputId": "17b026c9-564d-458b-9668-771565062ea2",
        "colab": {
          "base_uri": "https://localhost:8080/",
          "height": 34
        }
      },
      "source": [
        "userAge[0]"
      ],
      "execution_count": null,
      "outputs": [
        {
          "output_type": "execute_result",
          "data": {
            "text/plain": [
              "21"
            ]
          },
          "metadata": {
            "tags": []
          },
          "execution_count": 39
        }
      ]
    },
    {
      "cell_type": "code",
      "metadata": {
        "id": "Wh6HZUH07Pjd",
        "outputId": "ad4b19de-fd0e-4799-ddb1-be3856519055",
        "colab": {
          "base_uri": "https://localhost:8080/",
          "height": 34
        }
      },
      "source": [
        "userAge[-1]"
      ],
      "execution_count": null,
      "outputs": [
        {
          "output_type": "execute_result",
          "data": {
            "text/plain": [
              "25"
            ]
          },
          "metadata": {
            "tags": []
          },
          "execution_count": 40
        }
      ]
    },
    {
      "cell_type": "code",
      "metadata": {
        "id": "TrPFZ9py5mdB"
      },
      "source": [
        "# declare a empty variable and then we can use append() to add some items into our variable\n",
        "listName = []"
      ],
      "execution_count": null,
      "outputs": []
    },
    {
      "cell_type": "code",
      "metadata": {
        "id": "Z5R8gnSP5mfz"
      },
      "source": [
        "userAge.append('hello')"
      ],
      "execution_count": null,
      "outputs": []
    },
    {
      "cell_type": "code",
      "metadata": {
        "id": "7BfiHtAS5mik",
        "outputId": "850210a6-df74-4bbe-b679-8876d4dcdcf7",
        "colab": {
          "base_uri": "https://localhost:8080/",
          "height": 34
        }
      },
      "source": [
        "userAge"
      ],
      "execution_count": null,
      "outputs": [
        {
          "output_type": "execute_result",
          "data": {
            "text/plain": [
              "[21, 22, 23, 24, 25, 'hello']"
            ]
          },
          "metadata": {
            "tags": []
          },
          "execution_count": 43
        }
      ]
    },
    {
      "cell_type": "code",
      "metadata": {
        "id": "4LpSOe6n5ml4"
      },
      "source": [
        "# delete a value\n",
        "del userAge[5]"
      ],
      "execution_count": null,
      "outputs": []
    },
    {
      "cell_type": "code",
      "metadata": {
        "id": "y5Y_UdGG1xq4",
        "outputId": "32cd2179-6f33-456a-ab0d-e3bfbb9a8311",
        "colab": {
          "base_uri": "https://localhost:8080/",
          "height": 34
        }
      },
      "source": [
        "userAge"
      ],
      "execution_count": null,
      "outputs": [
        {
          "output_type": "execute_result",
          "data": {
            "text/plain": [
              "[21, 22, 23, 24, 25]"
            ]
          },
          "metadata": {
            "tags": []
          },
          "execution_count": 45
        }
      ]
    },
    {
      "cell_type": "code",
      "metadata": {
        "id": "L8R7o-Fl7---"
      },
      "source": [
        "#dictionery\n",
        "myDictionary = {'Peter':38, 'John':51, 'Peter':13}"
      ],
      "execution_count": null,
      "outputs": []
    },
    {
      "cell_type": "code",
      "metadata": {
        "id": "bVJ5AeMY8TEk",
        "outputId": "00545cc9-055e-470e-8aab-191475bcb0b6",
        "colab": {
          "base_uri": "https://localhost:8080/",
          "height": 34
        }
      },
      "source": [
        "myDictionary"
      ],
      "execution_count": null,
      "outputs": [
        {
          "output_type": "execute_result",
          "data": {
            "text/plain": [
              "{'John': 51, 'Peter': 13}"
            ]
          },
          "metadata": {
            "tags": []
          },
          "execution_count": 49
        }
      ]
    },
    {
      "cell_type": "code",
      "metadata": {
        "id": "R84irLbj8ZOn"
      },
      "source": [
        "#different data typoes\n",
        "myDict = {'One':1.35, 2.5:'Two Point Five', 3:'+',7.9:2}"
      ],
      "execution_count": null,
      "outputs": []
    },
    {
      "cell_type": "code",
      "metadata": {
        "id": "A57eU_3m8hXA",
        "outputId": "1562ef5e-78a7-4067-897a-5df08b7997d9",
        "colab": {
          "base_uri": "https://localhost:8080/",
          "height": 34
        }
      },
      "source": [
        "myDict"
      ],
      "execution_count": null,
      "outputs": [
        {
          "output_type": "execute_result",
          "data": {
            "text/plain": [
              "{2.5: 'Two Point Five', 3: '+', 7.9: 2, 'One': 1.35}"
            ]
          },
          "metadata": {
            "tags": []
          },
          "execution_count": 53
        }
      ]
    },
    {
      "cell_type": "markdown",
      "metadata": {
        "id": "CvIylueN8w_F"
      },
      "source": [
        "# Python can make a session interactive "
      ]
    },
    {
      "cell_type": "code",
      "metadata": {
        "id": "QU8Ou_yN8pUA",
        "outputId": "18a71b9e-05cb-4026-fa29-2dcd37fcb9ec",
        "colab": {
          "base_uri": "https://localhost:8080/",
          "height": 51
        }
      },
      "source": [
        "myName = input(\"Please enter your name: \")\n",
        "myAge = input(\"What about your age: \")"
      ],
      "execution_count": null,
      "outputs": [
        {
          "output_type": "stream",
          "text": [
            "Please enter your name: Kerry\n",
            "What about your age: 30\n"
          ],
          "name": "stdout"
        }
      ]
    },
    {
      "cell_type": "code",
      "metadata": {
        "id": "loKiQzZd95Y9",
        "outputId": "474c42fd-aef2-498f-8ed4-1f76fae61c4c",
        "colab": {
          "base_uri": "https://localhost:8080/",
          "height": 34
        }
      },
      "source": [
        "# pring a long message\n",
        "print (''' Hello World.My name is Kerry and I am 30 years old.''')"
      ],
      "execution_count": null,
      "outputs": [
        {
          "output_type": "stream",
          "text": [
            " Hello World.My name is Kerry and I am 30 years old.\n"
          ],
          "name": "stdout"
        }
      ]
    },
    {
      "cell_type": "code",
      "metadata": {
        "id": "JCOdqUhP-NOR",
        "outputId": "c7864921-9691-4d4b-9aa7-743b80603064",
        "colab": {
          "base_uri": "https://localhost:8080/",
          "height": 68
        }
      },
      "source": [
        "# If condition\n",
        "userInput = input('Enter 1 or 2: ')\n",
        "if userInput == \"1\":\n",
        "  print (\"Hello World\")\n",
        "  print ('How are you?')\n",
        "elif userInput == \"2\":\n",
        "  print (\"Python Rocks!\")\n",
        "  print ('I love Python')\n",
        "else:\n",
        "  print (\"You did not enter a valid number\")"
      ],
      "execution_count": null,
      "outputs": [
        {
          "output_type": "stream",
          "text": [
            "Enter 1 or 2: 2\n",
            "Python Rocks!\n",
            "I love Python\n"
          ],
          "name": "stdout"
        }
      ]
    },
    {
      "cell_type": "code",
      "metadata": {
        "id": "5LCenKcU-xtl",
        "outputId": "819c1cd0-82b5-42ea-b4f1-edb322b23dcc",
        "colab": {
          "base_uri": "https://localhost:8080/",
          "height": 85
        }
      },
      "source": [
        "#for loop\n",
        "pets = ['cats', 'dogs', 'rabbits', 'hamsters']\n",
        "for myPets in pets:\n",
        "  print (myPets)"
      ],
      "execution_count": null,
      "outputs": [
        {
          "output_type": "stream",
          "text": [
            "cats\n",
            "dogs\n",
            "rabbits\n",
            "hamsters\n"
          ],
          "name": "stdout"
        }
      ]
    },
    {
      "cell_type": "code",
      "metadata": {
        "id": "FsejiwJ5_INV",
        "outputId": "18442e6f-cc02-4dec-aa19-d85987ee5ef5",
        "colab": {
          "base_uri": "https://localhost:8080/",
          "height": 85
        }
      },
      "source": [
        "for index, myPets in enumerate(pets):\n",
        "  print (index, myPets)"
      ],
      "execution_count": null,
      "outputs": [
        {
          "output_type": "stream",
          "text": [
            "0 cats\n",
            "1 dogs\n",
            "2 rabbits\n",
            "3 hamsters\n"
          ],
          "name": "stdout"
        }
      ]
    },
    {
      "cell_type": "code",
      "metadata": {
        "id": "y6JTHexH_O_Z",
        "outputId": "97686f40-711b-40f3-bf65-1506b201acbc",
        "colab": {
          "base_uri": "https://localhost:8080/",
          "height": 102
        }
      },
      "source": [
        "for i in range(5):\n",
        "  print (i) "
      ],
      "execution_count": null,
      "outputs": [
        {
          "output_type": "stream",
          "text": [
            "0\n",
            "1\n",
            "2\n",
            "3\n",
            "4\n"
          ],
          "name": "stdout"
        }
      ]
    },
    {
      "cell_type": "code",
      "metadata": {
        "id": "1X_zz7dW_XcS",
        "outputId": "48684a0a-4c5c-4fb5-839d-d9674e02f2fe",
        "colab": {
          "base_uri": "https://localhost:8080/",
          "height": 102
        }
      },
      "source": [
        "#while loop\n",
        "counter = 5\n",
        "\n",
        "while counter > 0:\n",
        "  print('Counter = ', counter)\n",
        "  counter = counter - 1"
      ],
      "execution_count": null,
      "outputs": [
        {
          "output_type": "stream",
          "text": [
            "Counter =  5\n",
            "Counter =  4\n",
            "Counter =  3\n",
            "Counter =  2\n",
            "Counter =  1\n"
          ],
          "name": "stdout"
        }
      ]
    },
    {
      "cell_type": "code",
      "metadata": {
        "id": "vOyVnVHD_d1b",
        "outputId": "e56a5142-511d-4e2d-eda8-b3190cb59092",
        "colab": {
          "base_uri": "https://localhost:8080/",
          "height": 68
        }
      },
      "source": [
        "#break\n",
        "\n",
        "j = 0\n",
        "for i in range(5):\n",
        "  j += 2\n",
        "  print ('i = ', i, ', j = ', j)\n",
        "  if j == 6:\n",
        "    break"
      ],
      "execution_count": null,
      "outputs": [
        {
          "output_type": "stream",
          "text": [
            "i =  0 , j =  2\n",
            "i =  1 , j =  4\n",
            "i =  2 , j =  6\n"
          ],
          "name": "stdout"
        }
      ]
    },
    {
      "cell_type": "code",
      "metadata": {
        "id": "ntElzo5j_4k0",
        "outputId": "e8a2d43e-47b5-4d6a-dbf4-cf76173100a0",
        "colab": {
          "base_uri": "https://localhost:8080/",
          "height": 255
        }
      },
      "source": [
        "#continue\n",
        "j = 0\n",
        "for i in range(5):\n",
        "  j = j + 2\n",
        "  print ('\\ni = ', i, ', j = ', j)\n",
        "  if j == 6:\n",
        "        continue\n",
        "  print ('I will be skipped over if j=6')"
      ],
      "execution_count": null,
      "outputs": [
        {
          "output_type": "stream",
          "text": [
            "\n",
            "i =  0 , j =  2\n",
            "I will be skipped over if j=6\n",
            "\n",
            "i =  1 , j =  4\n",
            "I will be skipped over if j=6\n",
            "\n",
            "i =  2 , j =  6\n",
            "\n",
            "i =  3 , j =  8\n",
            "I will be skipped over if j=6\n",
            "\n",
            "i =  4 , j =  10\n",
            "I will be skipped over if j=6\n"
          ],
          "name": "stdout"
        }
      ]
    },
    {
      "cell_type": "code",
      "metadata": {
        "id": "R5OrWcH1AeM0"
      },
      "source": [
        "def checkIfPrime (numberToCheck):\n",
        "  for x in range(2, numberToCheck):\n",
        "    if (numberToCheck%x == 0):\n",
        "      return False\n",
        "  return True"
      ],
      "execution_count": null,
      "outputs": []
    },
    {
      "cell_type": "code",
      "metadata": {
        "id": "0Zq3NRMCBJW1"
      },
      "source": [
        "answer = checkIfPrime(13)"
      ],
      "execution_count": null,
      "outputs": []
    },
    {
      "cell_type": "code",
      "metadata": {
        "id": "cHG_FAxUBaEj",
        "outputId": "00abe9f2-0e38-4bbb-a511-6e735d1e5f2c",
        "colab": {
          "base_uri": "https://localhost:8080/",
          "height": 34
        }
      },
      "source": [
        "answer"
      ],
      "execution_count": null,
      "outputs": [
        {
          "output_type": "execute_result",
          "data": {
            "text/plain": [
              "True"
            ]
          },
          "metadata": {
            "tags": []
          },
          "execution_count": 89
        }
      ]
    },
    {
      "cell_type": "code",
      "metadata": {
        "id": "qKTzc_o-BbB1",
        "outputId": "f8c2fe03-e7f9-4ea5-b6f7-8a36c8947f59",
        "colab": {
          "base_uri": "https://localhost:8080/",
          "height": 34
        }
      },
      "source": [
        "checkIfPrime(10)"
      ],
      "execution_count": null,
      "outputs": [
        {
          "output_type": "execute_result",
          "data": {
            "text/plain": [
              "False"
            ]
          },
          "metadata": {
            "tags": []
          },
          "execution_count": 90
        }
      ]
    },
    {
      "cell_type": "code",
      "metadata": {
        "id": "_hEG3oGiBklF"
      },
      "source": [
        "# creating our own module\n",
        "\n",
        "def checkIfPrime (numberToCheck):\n",
        "  for x in range(2, numberToCheck):\n",
        "    if (numberToCheck%x == 0):\n",
        "      return False\n",
        "  return True"
      ],
      "execution_count": null,
      "outputs": []
    },
    {
      "cell_type": "code",
      "metadata": {
        "id": "SN41UGW0B0LI"
      },
      "source": [
        "''' Next, create another Python file and name it\n",
        "useCheckIfPrime.py. Save it on your desktop as well.\n",
        "useCheckIfPrime.py should have the following code.\n",
        "import prime\n",
        "answer = prime.checkIfPrime(13)\n",
        "print (answer) '''"
      ],
      "execution_count": null,
      "outputs": []
    },
    {
      "cell_type": "markdown",
      "metadata": {
        "id": "LfBIDFgid29z"
      },
      "source": [
        "# **Using Python as a powerful calculator**"
      ]
    },
    {
      "cell_type": "code",
      "metadata": {
        "id": "Dl7N3EVJCB0t",
        "outputId": "625d664c-ddad-4c73-ed30-a2b794cb5c89",
        "colab": {
          "base_uri": "https://localhost:8080/",
          "height": 34
        }
      },
      "source": [
        "2 + 3 - 36 / 2 - 5 \n",
        "# Simple arithmetic."
      ],
      "execution_count": null,
      "outputs": [
        {
          "output_type": "execute_result",
          "data": {
            "text/plain": [
              "-18.0"
            ]
          },
          "metadata": {
            "tags": []
          },
          "execution_count": 21
        }
      ]
    },
    {
      "cell_type": "code",
      "metadata": {
        "id": "xFRSFYA8CB4k",
        "outputId": "039c3fc9-e751-4597-a2ed-cefff59db03c",
        "colab": {
          "base_uri": "https://localhost:8080/",
          "height": 34
        }
      },
      "source": [
        "2**5 \n",
        "# Exponentiation."
      ],
      "execution_count": null,
      "outputs": [
        {
          "output_type": "execute_result",
          "data": {
            "text/plain": [
              "32"
            ]
          },
          "metadata": {
            "tags": []
          },
          "execution_count": 22
        }
      ]
    },
    {
      "cell_type": "code",
      "metadata": {
        "id": "9kkqfEotCB9V",
        "outputId": "39904250-b56f-457a-857e-f3c46596601f",
        "colab": {
          "base_uri": "https://localhost:8080/",
          "height": 34
        }
      },
      "source": [
        "2**0.5 \n",
        "# Fractional powers."
      ],
      "execution_count": null,
      "outputs": [
        {
          "output_type": "execute_result",
          "data": {
            "text/plain": [
              "1.4142135623730951"
            ]
          },
          "metadata": {
            "tags": []
          },
          "execution_count": 23
        }
      ]
    },
    {
      "cell_type": "code",
      "metadata": {
        "id": "VfUZ3X6dB1ff"
      },
      "source": [
        "\n",
        "x = 3 # Assign a variable."
      ],
      "execution_count": null,
      "outputs": []
    },
    {
      "cell_type": "code",
      "metadata": {
        "id": "ZG5AQQE7eFot",
        "outputId": "85fc5ccb-d99d-4114-baeb-484f688f41cf",
        "colab": {
          "base_uri": "https://localhost:8080/",
          "height": 34
        }
      },
      "source": [
        "x**2 + 1 # Work with the variable."
      ],
      "execution_count": null,
      "outputs": [
        {
          "output_type": "execute_result",
          "data": {
            "text/plain": [
              "10"
            ]
          },
          "metadata": {
            "tags": []
          },
          "execution_count": 25
        }
      ]
    },
    {
      "cell_type": "code",
      "metadata": {
        "id": "m5jhwst_eHTs",
        "outputId": "2a51806e-a98e-47aa-8a8b-4de15faaf453",
        "colab": {
          "base_uri": "https://localhost:8080/",
          "height": 34
        }
      },
      "source": [
        "type(x) # x is type (class) integer."
      ],
      "execution_count": null,
      "outputs": [
        {
          "output_type": "execute_result",
          "data": {
            "text/plain": [
              "int"
            ]
          },
          "metadata": {
            "tags": []
          },
          "execution_count": 26
        }
      ]
    },
    {
      "cell_type": "code",
      "metadata": {
        "id": "B3eDjwCXeIxd"
      },
      "source": [
        "x1 = 4.2; x2 = 2.675; # Assign x1 and x2."
      ],
      "execution_count": null,
      "outputs": []
    },
    {
      "cell_type": "code",
      "metadata": {
        "id": "OyEbzk1EeKzA",
        "outputId": "4e48e2d3-ec46-4992-db00-964091b8ba98",
        "colab": {
          "base_uri": "https://localhost:8080/",
          "height": 34
        }
      },
      "source": [
        "\n",
        "type(x1) # x1 is float."
      ],
      "execution_count": null,
      "outputs": [
        {
          "output_type": "execute_result",
          "data": {
            "text/plain": [
              "float"
            ]
          },
          "metadata": {
            "tags": []
          },
          "execution_count": 28
        }
      ]
    },
    {
      "cell_type": "code",
      "metadata": {
        "id": "AvxhaOcVeMo2",
        "outputId": "66f9a107-0634-44b9-cda7-8cea59df3bf6",
        "colab": {
          "base_uri": "https://localhost:8080/",
          "height": 34
        }
      },
      "source": [
        "int(x1) # Truncates to integer."
      ],
      "execution_count": null,
      "outputs": [
        {
          "output_type": "execute_result",
          "data": {
            "text/plain": [
              "4"
            ]
          },
          "metadata": {
            "tags": []
          },
          "execution_count": 29
        }
      ]
    },
    {
      "cell_type": "code",
      "metadata": {
        "id": "MGQmaAIVeOTh",
        "outputId": "f957c012-4d26-49fc-e8de-787dd4c95635",
        "colab": {
          "base_uri": "https://localhost:8080/",
          "height": 34
        }
      },
      "source": [
        "-7 // 3 # Floor division."
      ],
      "execution_count": null,
      "outputs": [
        {
          "output_type": "execute_result",
          "data": {
            "text/plain": [
              "-3"
            ]
          },
          "metadata": {
            "tags": []
          },
          "execution_count": 30
        }
      ]
    },
    {
      "cell_type": "code",
      "metadata": {
        "id": "5ziwIM6yeQ8d",
        "outputId": "0213452e-efaf-4b30-ad5c-8c6ef44014ea",
        "colab": {
          "base_uri": "https://localhost:8080/",
          "height": 34
        }
      },
      "source": [
        "round(x2, 2) # Round Floating point arithmetic to 2 decimal places."
      ],
      "execution_count": null,
      "outputs": [
        {
          "output_type": "execute_result",
          "data": {
            "text/plain": [
              "2.67"
            ]
          },
          "metadata": {
            "tags": []
          },
          "execution_count": 31
        }
      ]
    },
    {
      "cell_type": "code",
      "metadata": {
        "id": "Zi-o66EeeUiD"
      },
      "source": [
        "z1=2 + 3j; z2 = 3 - 1j # Assign z1 and z2. complex numbers"
      ],
      "execution_count": null,
      "outputs": []
    },
    {
      "cell_type": "code",
      "metadata": {
        "id": "IXAvxO1ReYUe",
        "outputId": "6b80a217-a106-4025-cb55-6ae2408457c1",
        "colab": {
          "base_uri": "https://localhost:8080/",
          "height": 34
        }
      },
      "source": [
        "type(z1) # z1 is class complex."
      ],
      "execution_count": null,
      "outputs": [
        {
          "output_type": "execute_result",
          "data": {
            "text/plain": [
              "complex"
            ]
          },
          "metadata": {
            "tags": []
          },
          "execution_count": 33
        }
      ]
    },
    {
      "cell_type": "code",
      "metadata": {
        "id": "s2N70vEDeZ-B",
        "outputId": "58b159d5-142b-451a-feb4-6301f6be8987",
        "colab": {
          "base_uri": "https://localhost:8080/",
          "height": 34
        }
      },
      "source": [
        "z1**2 - 2 * z2 # Complex arithmetic."
      ],
      "execution_count": null,
      "outputs": [
        {
          "output_type": "execute_result",
          "data": {
            "text/plain": [
              "(-11+14j)"
            ]
          },
          "metadata": {
            "tags": []
          },
          "execution_count": 34
        }
      ]
    },
    {
      "cell_type": "code",
      "metadata": {
        "id": "x9gESYmxeb3U",
        "outputId": "3f6e5e84-3dbf-4772-a2bc-88a81fa17e9e",
        "colab": {
          "base_uri": "https://localhost:8080/",
          "height": 34
        }
      },
      "source": [
        "abs(z1) # The modulus."
      ],
      "execution_count": null,
      "outputs": [
        {
          "output_type": "execute_result",
          "data": {
            "text/plain": [
              "3.605551275463989"
            ]
          },
          "metadata": {
            "tags": []
          },
          "execution_count": 35
        }
      ]
    },
    {
      "cell_type": "code",
      "metadata": {
        "id": "HE3DKw0qedtU",
        "outputId": "03311499-3bf0-4c1a-a3ba-a6e8e4c21541",
        "colab": {
          "base_uri": "https://localhost:8080/",
          "height": 34
        }
      },
      "source": [
        "z1.real # The real part of z1."
      ],
      "execution_count": null,
      "outputs": [
        {
          "output_type": "execute_result",
          "data": {
            "text/plain": [
              "2.0"
            ]
          },
          "metadata": {
            "tags": []
          },
          "execution_count": 36
        }
      ]
    },
    {
      "cell_type": "code",
      "metadata": {
        "id": "ZsPpesFdefdh",
        "outputId": "970ea8c2-eb2e-41fc-8204-0119145df2d4",
        "colab": {
          "base_uri": "https://localhost:8080/",
          "height": 34
        }
      },
      "source": [
        "z1.imag # Imaginary part of z1."
      ],
      "execution_count": null,
      "outputs": [
        {
          "output_type": "execute_result",
          "data": {
            "text/plain": [
              "3.0"
            ]
          },
          "metadata": {
            "tags": []
          },
          "execution_count": 37
        }
      ]
    },
    {
      "cell_type": "code",
      "metadata": {
        "id": "T4f6FbZ9ehzi",
        "outputId": "bca8713a-10ba-4d65-a0cd-128559383235",
        "colab": {
          "base_uri": "https://localhost:8080/",
          "height": 34
        }
      },
      "source": [
        "z1.conjugate() # The complex conjugate."
      ],
      "execution_count": null,
      "outputs": [
        {
          "output_type": "execute_result",
          "data": {
            "text/plain": [
              "(2-3j)"
            ]
          },
          "metadata": {
            "tags": []
          },
          "execution_count": 38
        }
      ]
    },
    {
      "cell_type": "code",
      "metadata": {
        "id": "YjjGPJVmejuJ"
      },
      "source": [
        "a=[1, 2, 3, 4, 5] # A list of integers."
      ],
      "execution_count": null,
      "outputs": []
    },
    {
      "cell_type": "code",
      "metadata": {
        "id": "c-muKtiYel6S"
      },
      "source": [
        ""
      ],
      "execution_count": null,
      "outputs": []
    },
    {
      "cell_type": "markdown",
      "metadata": {
        "id": "fisgLPFRenqL"
      },
      "source": [
        "# **A Tutorial Introduction to more concepts in Python**"
      ]
    },
    {
      "cell_type": "code",
      "metadata": {
        "id": "GhenviMqepSO",
        "outputId": "b6b39536-30dd-4a5b-bc3e-47ed625b6aef",
        "colab": {
          "base_uri": "https://localhost:8080/",
          "height": 34
        }
      },
      "source": [
        "type(a) # Determine a is a list."
      ],
      "execution_count": null,
      "outputs": [
        {
          "output_type": "execute_result",
          "data": {
            "text/plain": [
              "list"
            ]
          },
          "metadata": {
            "tags": []
          },
          "execution_count": 40
        }
      ]
    },
    {
      "cell_type": "code",
      "metadata": {
        "id": "8g5VEiUwepXc",
        "outputId": "d5388613-dc6c-47ef-afac-f35dd5427a3e",
        "colab": {
          "base_uri": "https://localhost:8080/",
          "height": 34
        }
      },
      "source": [
        "a[0] # 1st element, starts counting from 0."
      ],
      "execution_count": null,
      "outputs": [
        {
          "output_type": "execute_result",
          "data": {
            "text/plain": [
              "1"
            ]
          },
          "metadata": {
            "tags": []
          },
          "execution_count": 41
        }
      ]
    },
    {
      "cell_type": "code",
      "metadata": {
        "id": "D1Y8d4qsepbx",
        "outputId": "f95f2f7b-0777-4189-d4ad-2c6bcc671d13",
        "colab": {
          "base_uri": "https://localhost:8080/",
          "height": 34
        }
      },
      "source": [
        "a[-1] # The last element."
      ],
      "execution_count": null,
      "outputs": [
        {
          "output_type": "execute_result",
          "data": {
            "text/plain": [
              "5"
            ]
          },
          "metadata": {
            "tags": []
          },
          "execution_count": 43
        }
      ]
    },
    {
      "cell_type": "code",
      "metadata": {
        "id": "39G9JGt1epVi",
        "outputId": "9286c127-9ab9-49f6-9a76-7c150e7c7fcd",
        "colab": {
          "base_uri": "https://localhost:8080/",
          "height": 34
        }
      },
      "source": [
        "len(a) # The number of elements."
      ],
      "execution_count": null,
      "outputs": [
        {
          "output_type": "execute_result",
          "data": {
            "text/plain": [
              "5"
            ]
          },
          "metadata": {
            "tags": []
          },
          "execution_count": 44
        }
      ]
    },
    {
      "cell_type": "code",
      "metadata": {
        "id": "LP_c6IUueyLL",
        "outputId": "87cb4188-8c5a-4f9c-9c02-76bdd7cdeebf",
        "colab": {
          "base_uri": "https://localhost:8080/",
          "height": 34
        }
      },
      "source": [
        "min(a) # The smallest element."
      ],
      "execution_count": null,
      "outputs": [
        {
          "output_type": "execute_result",
          "data": {
            "text/plain": [
              "1"
            ]
          },
          "metadata": {
            "tags": []
          },
          "execution_count": 45
        }
      ]
    },
    {
      "cell_type": "code",
      "metadata": {
        "id": "FaKRZbV7ezvT",
        "outputId": "1892482a-3b37-4986-fa5a-52bb71097c9b",
        "colab": {
          "base_uri": "https://localhost:8080/",
          "height": 34
        }
      },
      "source": [
        "max(a) # The largest element."
      ],
      "execution_count": null,
      "outputs": [
        {
          "output_type": "execute_result",
          "data": {
            "text/plain": [
              "5"
            ]
          },
          "metadata": {
            "tags": []
          },
          "execution_count": 46
        }
      ]
    },
    {
      "cell_type": "code",
      "metadata": {
        "id": "pfQkJ1k8e1Z_",
        "outputId": "5e29a77a-ddc2-4e71-805c-d42288fecfb6",
        "colab": {
          "base_uri": "https://localhost:8080/",
          "height": 34
        }
      },
      "source": [
        "5 in a # True, 5 is in the list a."
      ],
      "execution_count": null,
      "outputs": [
        {
          "output_type": "execute_result",
          "data": {
            "text/plain": [
              "True"
            ]
          },
          "metadata": {
            "tags": []
          },
          "execution_count": 47
        }
      ]
    },
    {
      "cell_type": "code",
      "metadata": {
        "id": "3IUlYxhAe4Pc",
        "outputId": "a222ac18-076c-4946-c35f-c8631a83b2fa",
        "colab": {
          "base_uri": "https://localhost:8080/",
          "height": 34
        }
      },
      "source": [
        "2 * a # [1,2,3,4,5,1,2,3,4,5]."
      ],
      "execution_count": null,
      "outputs": [
        {
          "output_type": "execute_result",
          "data": {
            "text/plain": [
              "[1, 2, 3, 4, 5, 1, 2, 3, 4, 5]"
            ]
          },
          "metadata": {
            "tags": []
          },
          "execution_count": 48
        }
      ]
    },
    {
      "cell_type": "code",
      "metadata": {
        "id": "OSDreFP-e7Ea"
      },
      "source": [
        "a.append(6) # Now a=[1,2,3,4,5,6]."
      ],
      "execution_count": null,
      "outputs": []
    },
    {
      "cell_type": "code",
      "metadata": {
        "id": "aRUIiTp1e9QS"
      },
      "source": [
        "a.remove(6) # Removes the first 6 found."
      ],
      "execution_count": null,
      "outputs": []
    },
    {
      "cell_type": "code",
      "metadata": {
        "id": "fb8ZtdKTe-5S",
        "outputId": "c6af0ec1-8579-4003-9539-8bf8fc2f034c",
        "colab": {
          "base_uri": "https://localhost:8080/",
          "height": 34
        }
      },
      "source": [
        "print(a) # Prints the list\n",
        "a=[1,2,3,4,5]"
      ],
      "execution_count": null,
      "outputs": [
        {
          "output_type": "stream",
          "text": [
            "[1, 2, 3, 4, 5, 6]\n"
          ],
          "name": "stdout"
        }
      ]
    },
    {
      "cell_type": "code",
      "metadata": {
        "id": "pcuzVPBlfBF2",
        "outputId": "905d49b4-ba47-44a5-c930-cb6daf8a61a5",
        "colab": {
          "base_uri": "https://localhost:8080/",
          "height": 34
        }
      },
      "source": [
        "a[1 : 3] # Slice to get the list [2,3]."
      ],
      "execution_count": null,
      "outputs": [
        {
          "output_type": "execute_result",
          "data": {
            "text/plain": [
              "[2, 3]"
            ]
          },
          "metadata": {
            "tags": []
          },
          "execution_count": 53
        }
      ]
    },
    {
      "cell_type": "code",
      "metadata": {
        "id": "rU3PxadzfEvf",
        "outputId": "cf85623a-e8f7-4283-9180-cee14680af26",
        "colab": {
          "base_uri": "https://localhost:8080/",
          "height": 34
        }
      },
      "source": [
        "range(10) # A range object zero to nine."
      ],
      "execution_count": null,
      "outputs": [
        {
          "output_type": "execute_result",
          "data": {
            "text/plain": [
              "range(0, 10)"
            ]
          },
          "metadata": {
            "tags": []
          },
          "execution_count": 54
        }
      ]
    },
    {
      "cell_type": "code",
      "metadata": {
        "id": "yJiiB7DrfHFm",
        "outputId": "3b5851bb-33d3-4056-84e4-b3ba52e66c1b",
        "colab": {
          "base_uri": "https://localhost:8080/",
          "height": 34
        }
      },
      "source": [
        "\n",
        "list(range(5)) # A list [0,1,2,3,4]."
      ],
      "execution_count": null,
      "outputs": [
        {
          "output_type": "execute_result",
          "data": {
            "text/plain": [
              "[0, 1, 2, 3, 4]"
            ]
          },
          "metadata": {
            "tags": []
          },
          "execution_count": 55
        }
      ]
    },
    {
      "cell_type": "code",
      "metadata": {
        "id": "3UnuiCuifMN8",
        "outputId": "5e6deb37-e40d-47f7-fb0e-ba557229a4db",
        "colab": {
          "base_uri": "https://localhost:8080/",
          "height": 34
        }
      },
      "source": [
        "list(range(4, 9)) # A list [4,5,6,7,8]."
      ],
      "execution_count": null,
      "outputs": [
        {
          "output_type": "execute_result",
          "data": {
            "text/plain": [
              "[4, 5, 6, 7, 8]"
            ]
          },
          "metadata": {
            "tags": []
          },
          "execution_count": 56
        }
      ]
    },
    {
      "cell_type": "code",
      "metadata": {
        "id": "5t8OYODNfOlk"
      },
      "source": [
        "A=[[1, 2], [3, 4]] # A list of lists."
      ],
      "execution_count": null,
      "outputs": []
    },
    {
      "cell_type": "code",
      "metadata": {
        "id": "20zMGdU1fRJr",
        "outputId": "7bda1b6c-e411-40ee-bf69-0aac8a677a8d",
        "colab": {
          "base_uri": "https://localhost:8080/",
          "height": 34
        }
      },
      "source": [
        "A[0] # The first list [1,2]."
      ],
      "execution_count": null,
      "outputs": [
        {
          "output_type": "execute_result",
          "data": {
            "text/plain": [
              "[1, 2]"
            ]
          },
          "metadata": {
            "tags": []
          },
          "execution_count": 58
        }
      ]
    },
    {
      "cell_type": "code",
      "metadata": {
        "id": "3sXBEhbafS1n",
        "outputId": "93edf17a-fdcd-4bd8-9502-30fa7f4400dd",
        "colab": {
          "base_uri": "https://localhost:8080/",
          "height": 34
        }
      },
      "source": [
        "A[0][1] # Second element in list 1."
      ],
      "execution_count": null,
      "outputs": [
        {
          "output_type": "execute_result",
          "data": {
            "text/plain": [
              "2"
            ]
          },
          "metadata": {
            "tags": []
          },
          "execution_count": 59
        }
      ]
    },
    {
      "cell_type": "markdown",
      "metadata": {
        "id": "YTmsJLwR5qEc"
      },
      "source": [
        "**Importing math program to do some calculations and functions**"
      ]
    },
    {
      "cell_type": "code",
      "metadata": {
        "id": "gvIZC-pqfUxP"
      },
      "source": [
        "import math # # Import all under name space math."
      ],
      "execution_count": null,
      "outputs": []
    },
    {
      "cell_type": "code",
      "metadata": {
        "id": "5AuTa3j3fXfN"
      },
      "source": [
        "from math import sin # Import sine command only."
      ],
      "execution_count": null,
      "outputs": []
    },
    {
      "cell_type": "code",
      "metadata": {
        "id": "SFq3mDm6fbFC"
      },
      "source": [
        "from math import * # Import all math commands."
      ],
      "execution_count": null,
      "outputs": []
    },
    {
      "cell_type": "code",
      "metadata": {
        "id": "7Ik8prV3fdOL",
        "outputId": "728e925a-83ba-4bb5-d5a4-b29c40d6e1ce",
        "colab": {
          "base_uri": "https://localhost:8080/",
          "height": 34
        }
      },
      "source": [
        "sin(pi) # Sine function."
      ],
      "execution_count": null,
      "outputs": [
        {
          "output_type": "execute_result",
          "data": {
            "text/plain": [
              "1.2246467991473532e-16"
            ]
          },
          "metadata": {
            "tags": []
          },
          "execution_count": 65
        }
      ]
    },
    {
      "cell_type": "code",
      "metadata": {
        "id": "wdZa5kvDfezl",
        "outputId": "d7c042a5-6fd9-4aa9-e773-9d53c52dd9be",
        "colab": {
          "base_uri": "https://localhost:8080/",
          "height": 34
        }
      },
      "source": [
        "acos(0) # Inverse cosine."
      ],
      "execution_count": null,
      "outputs": [
        {
          "output_type": "execute_result",
          "data": {
            "text/plain": [
              "1.5707963267948966"
            ]
          },
          "metadata": {
            "tags": []
          },
          "execution_count": 66
        }
      ]
    },
    {
      "cell_type": "code",
      "metadata": {
        "id": "P1k2-Yghfgxb",
        "outputId": "ff0dde7a-3347-4532-9671-269203029403",
        "colab": {
          "base_uri": "https://localhost:8080/",
          "height": 34
        }
      },
      "source": [
        "exp(0.3) # Exponential function."
      ],
      "execution_count": null,
      "outputs": [
        {
          "output_type": "execute_result",
          "data": {
            "text/plain": [
              "1.3498588075760032"
            ]
          },
          "metadata": {
            "tags": []
          },
          "execution_count": 67
        }
      ]
    },
    {
      "cell_type": "code",
      "metadata": {
        "id": "Q0kGj7LlfjL3",
        "outputId": "3bdd5bc3-17a7-4838-ca5c-c8a46cdfb341",
        "colab": {
          "base_uri": "https://localhost:8080/",
          "height": 34
        }
      },
      "source": [
        "log10(0.3) # Log base 10."
      ],
      "execution_count": null,
      "outputs": [
        {
          "output_type": "execute_result",
          "data": {
            "text/plain": [
              "-0.5228787452803376"
            ]
          },
          "metadata": {
            "tags": []
          },
          "execution_count": 69
        }
      ]
    },
    {
      "cell_type": "code",
      "metadata": {
        "id": "sVLzCK1DflOr",
        "outputId": "ef787162-cf90-4820-aa7e-5dc852e60781",
        "colab": {
          "base_uri": "https://localhost:8080/",
          "height": 34
        }
      },
      "source": [
        "floor(2.35) # Return floor as integer."
      ],
      "execution_count": null,
      "outputs": [
        {
          "output_type": "execute_result",
          "data": {
            "text/plain": [
              "2"
            ]
          },
          "metadata": {
            "tags": []
          },
          "execution_count": 70
        }
      ]
    },
    {
      "cell_type": "markdown",
      "metadata": {
        "id": "99lo0_kS-Y7S"
      },
      "source": [
        "Lets plot a graph in Python\n"
      ]
    },
    {
      "cell_type": "code",
      "metadata": {
        "id": "FN2XbRiB-nEO"
      },
      "source": [
        "import numpy as np # get numbers from numpy (np)\n",
        "import matplotlib.pyplot as plt  # plot map using matplot\n"
      ],
      "execution_count": null,
      "outputs": []
    },
    {
      "cell_type": "code",
      "metadata": {
        "id": "l2vvM88t-xNg",
        "outputId": "8f3e6721-f694-418f-b428-a537b747047a",
        "colab": {
          "base_uri": "https://localhost:8080/",
          "height": 282
        }
      },
      "source": [
        "np.array([1,2,3])\n",
        "x = np.array ([1,2,3])\n",
        "y=x\n",
        "plt.plot(x,y)\n",
        "y=x**2\n",
        "plt.plot(x,y)"
      ],
      "execution_count": null,
      "outputs": [
        {
          "output_type": "execute_result",
          "data": {
            "text/plain": [
              "[<matplotlib.lines.Line2D at 0x7fa8ddb4ee80>]"
            ]
          },
          "metadata": {
            "tags": []
          },
          "execution_count": 84
        },
        {
          "output_type": "display_data",
          "data": {
            "image/png": "[encoded data removed]",
            "text/plain": [
              "<Figure size 432x288 with 1 Axes>"
            ]
          },
          "metadata": {
            "tags": [],
            "needs_background": "light"
          }
        }
      ]
    }
  ]
}